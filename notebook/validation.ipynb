{
 "cells": [
  {
   "cell_type": "code",
   "execution_count": 1,
   "metadata": {},
   "outputs": [
    {
     "name": "stdout",
     "output_type": "stream",
     "text": [
      "/workspaces/Valet\n"
     ]
    },
    {
     "name": "stderr",
     "output_type": "stream",
     "text": [
      "/workspaces/Valet/.venv/lib/python3.10/site-packages/tqdm/auto.py:21: TqdmWarning: IProgress not found. Please update jupyter and ipywidgets. See https://ipywidgets.readthedocs.io/en/stable/user_install.html\n",
      "  from .autonotebook import tqdm as notebook_tqdm\n"
     ]
    }
   ],
   "source": [
    "%cd /workspaces/Valet\n",
    "from src.pipeline.qa_pipeline import load_QA_pipeline"
   ]
  },
  {
   "attachments": {},
   "cell_type": "markdown",
   "metadata": {},
   "source": [
    "### Cherry picked Question Dataset"
   ]
  },
  {
   "cell_type": "code",
   "execution_count": 2,
   "metadata": {},
   "outputs": [
    {
     "name": "stderr",
     "output_type": "stream",
     "text": [
      "2023-05-15 17:43:44.091 \n",
      "  \u001b[33m\u001b[1mWarning:\u001b[0m to view this Streamlit app on a browser, run it with the following\n",
      "  command:\n",
      "\n",
      "    streamlit run /workspaces/Valet/.venv/lib/python3.10/site-packages/ipykernel_launcher.py [ARGUMENTS]\n",
      "2023-05-15 17:43:44.107 Loading document store from file\n",
      "2023-05-15 17:43:44.185 Using devices: CPU - Number of GPUs: 0\n",
      "2023-05-15 17:43:44.489 Init retriever using embeddings of model sentence-transformers/distiluse-base-multilingual-cased-v1\n",
      "2023-05-15 17:43:44.499 Load pretrained SentenceTransformer: sentence-transformers/distiluse-base-multilingual-cased-v1\n",
      "/workspaces/Valet/.venv/lib/python3.10/site-packages/torch/_utils.py:776: UserWarning: TypedStorage is deprecated. It will be removed in the future and UntypedStorage will be the only storage class. This should only matter to you if you are using storages directly.  To access UntypedStorage directly, use tensor.untyped_storage() instead of tensor.storage()\n",
      "  return self.fget.__get__(instance, owner)()\n",
      "2023-05-15 17:43:55.767 PromptNode has been potentially initialized with a language model not fine-tuned on instruction following tasks. Many of the default prompts and PromptTemplates will likely not work as intended. Use custom prompts and PromptTemplates specific to the gpt-3.5-turbo model\n"
     ]
    }
   ],
   "source": [
    "pipeline = load_QA_pipeline()"
   ]
  },
  {
   "cell_type": "code",
   "execution_count": 3,
   "metadata": {},
   "outputs": [
    {
     "data": {
      "text/html": [
       "<div>\n",
       "<style scoped>\n",
       "    .dataframe tbody tr th:only-of-type {\n",
       "        vertical-align: middle;\n",
       "    }\n",
       "\n",
       "    .dataframe tbody tr th {\n",
       "        vertical-align: top;\n",
       "    }\n",
       "\n",
       "    .dataframe thead th {\n",
       "        text-align: right;\n",
       "    }\n",
       "</style>\n",
       "<table border=\"1\" class=\"dataframe\">\n",
       "  <thead>\n",
       "    <tr style=\"text-align: right;\">\n",
       "      <th></th>\n",
       "      <th>question</th>\n",
       "      <th>base_response</th>\n",
       "    </tr>\n",
       "  </thead>\n",
       "  <tbody>\n",
       "    <tr>\n",
       "      <th>0</th>\n",
       "      <td>un ami est en due dil pour vendre sa boite, et vient - en parallèle - de sig...</td>\n",
       "      <td>Salut ! Je comprends que ton ami rencontre des difficultés de trésorerie sui...</td>\n",
       "    </tr>\n",
       "    <tr>\n",
       "      <th>1</th>\n",
       "      <td>Hello les Galions ! Les grandes manœuvre vont bientôt commencer sur notre ma...</td>\n",
       "      <td>&lt;pas de reponse&gt;</td>\n",
       "    </tr>\n",
       "    <tr>\n",
       "      <th>2</th>\n",
       "      <td>Un ami veut faire une procédure de licensiement collectif suite à un pivot. ...</td>\n",
       "      <td>Salut ! Si tu cherches un avocat spécialisé en droit du travail pour une pro...</td>\n",
       "    </tr>\n",
       "    <tr>\n",
       "      <th>3</th>\n",
       "      <td>Hello, je travaille sur la création d’une fondation qui coordonnerait des do...</td>\n",
       "      <td>Bonjour ! Pour la création d'une fondation qui coordonnerait des dons de plu...</td>\n",
       "    </tr>\n",
       "    <tr>\n",
       "      <th>4</th>\n",
       "      <td>Hello, on cherche des options pour outsourcer une partie de notre tech hors ...</td>\n",
       "      <td>Salut ! Smile en Ukraine est une entreprise partenaire fiable avec des dével...</td>\n",
       "    </tr>\n",
       "  </tbody>\n",
       "</table>\n",
       "</div>"
      ],
      "text/plain": [
       "                                                                          question  \\\n",
       "0  un ami est en due dil pour vendre sa boite, et vient - en parallèle - de sig...   \n",
       "1  Hello les Galions ! Les grandes manœuvre vont bientôt commencer sur notre ma...   \n",
       "2  Un ami veut faire une procédure de licensiement collectif suite à un pivot. ...   \n",
       "3  Hello, je travaille sur la création d’une fondation qui coordonnerait des do...   \n",
       "4  Hello, on cherche des options pour outsourcer une partie de notre tech hors ...   \n",
       "\n",
       "                                                                     base_response  \n",
       "0  Salut ! Je comprends que ton ami rencontre des difficultés de trésorerie sui...  \n",
       "1                                                                 <pas de reponse>  \n",
       "2  Salut ! Si tu cherches un avocat spécialisé en droit du travail pour une pro...  \n",
       "3  Bonjour ! Pour la création d'une fondation qui coordonnerait des dons de plu...  \n",
       "4  Salut ! Smile en Ukraine est une entreprise partenaire fiable avec des dével...  "
      ]
     },
     "execution_count": 3,
     "metadata": {},
     "output_type": "execute_result"
    }
   ],
   "source": [
    "import pandas as pd\n",
    "\n",
    "df = pd.read_excel(\"data/validation/Base de test Galion bot.xlsx\").drop(columns=[0]).rename(columns={\"Questions\": \"question\", \"REPONSES\": \"base_response\"})\n",
    "df.head()"
   ]
  },
  {
   "cell_type": "code",
   "execution_count": 4,
   "metadata": {},
   "outputs": [
    {
     "name": "stdout",
     "output_type": "stream",
     "text": [
      "________________________________________________________________________________\n",
      "question         un ami est en due dil pour vendre sa boite, et vient - en parallèle - de sig...\n",
      "base_response    Salut ! Je comprends que ton ami rencontre des difficultés de trésorerie sui...\n",
      "Name: 0, dtype: object\n"
     ]
    },
    {
     "name": "stderr",
     "output_type": "stream",
     "text": [
      "Batches: 100%|██████████| 1/1 [00:02<00:00,  2.91s/it]\n"
     ]
    },
    {
     "name": "stdout",
     "output_type": "stream",
     "text": [
      "Je recommande à ton ami de contacter Alexandre Pham (Mistertemp) qui a souscrit à des obligations convertibles dans le passé et serait ravi de discuter des avantages et inconvénients de ce type de financement. Pour ce qui est du financement court terme, je n'ai pas d'information précise mais peut-être que Victor Wacrenier ou Erwan Keraudy pourraient aider ou recommander des contacts. Si ton ami cherche une solution rapide et faible budget pour créer une entité aux US, il peut poser la question à Jonathan Livescault qui a déjà travaillé avec des clients grands groupes aux US. Enfin, concernant la solvabilité de la presta US qui a envoyé une facture sur un RIB SVB, Erwan Keraudy répond que tu ne dois pas t'inquiéter à court terme. Si tu as d'autres questions, n'hésite pas à les poser !\n",
      "________________________________________________________________________________\n",
      "question         Hello les Galions ! Les grandes manœuvre vont bientôt commencer sur notre ma...\n",
      "base_response                                                                   <pas de reponse>\n",
      "Name: 1, dtype: object\n"
     ]
    },
    {
     "name": "stderr",
     "output_type": "stream",
     "text": [
      "Batches: 100%|██████████| 1/1 [00:00<00:00,  3.19it/s]\n"
     ]
    },
    {
     "name": "stdout",
     "output_type": "stream",
     "text": [
      "Je vous recommande de contacter Alyssa EMMUNGIL qui recherche des entrepreneurs pour partager leur expérience avec les lauréats du Leadership Program de Diversidays. Ils pourraient être en mesure de vous donner des conseils pour créer un leader sur votre marché. (@Alyssa EMMUNGIL)\n",
      "\n",
      "Réponse alternative si la première n'est pas satisfaisante : <no response>\n",
      "________________________________________________________________________________\n",
      "question         Un ami veut faire une procédure de licensiement collectif suite à un pivot. ...\n",
      "base_response    Salut ! Si tu cherches un avocat spécialisé en droit du travail pour une pro...\n",
      "Name: 2, dtype: object\n"
     ]
    },
    {
     "name": "stderr",
     "output_type": "stream",
     "text": [
      "Batches: 100%|██████████| 1/1 [00:00<00:00,  8.64it/s]\n"
     ]
    },
    {
     "name": "stdout",
     "output_type": "stream",
     "text": [
      "Jean-Michel MAURER a déjà fait une procédure de licenciement collectif accompagné par un avocat, il a donc un contact pour toi. Tu peux le contacter en MP pour échanger. Pierre Laprée a également recommandé leur avocate en social qui était spécialisée dans les PSE chez Adecco avant et qui est assez sharp sur le sujet. Aucun membre n'a mentionné avoir vécu des choses similaires. Si tu as besoin d'autres références, tu peux demander à d'autres membres du groupe ou contacter directement des cabinets d'avocats spécialisés en droit du travail.\n",
      "________________________________________________________________________________\n",
      "question         Hello, je travaille sur la création d’une fondation qui coordonnerait des do...\n",
      "base_response    Bonjour ! Pour la création d'une fondation qui coordonnerait des dons de plu...\n",
      "Name: 3, dtype: object\n"
     ]
    },
    {
     "name": "stderr",
     "output_type": "stream",
     "text": [
      "Batches: 100%|██████████| 1/1 [00:00<00:00,  8.72it/s]\n"
     ]
    },
    {
     "name": "stdout",
     "output_type": "stream",
     "text": [
      "Pour la question de Maxime Huzar sur les solutions de financement OC et/ou dette privée pour une boîte real estate, Alexandre Pham a indiqué qu'il avait souscrit à des OC il y a 10 ans et serait ravi de parler des avantages et inconvénients. (Alexandre Pham)\n",
      "Pour la question de Jean-Christophe Lambert sur les comités de rémunération et comment bien cadrer l'exercice avec les investisseurs, personne n'a répondu à cette question. \n",
      "Pour la question de Rémi Ducrocq sur des recommandations de conseiller financier pour les entrepreneurs français qui ont travaillé à l'étranger toute leur carrière, personne n'a répondu à cette question.\n",
      "Pour la question de Julien Mardas sur les contributions d'un committee scientifique d'advisors contre rem en options, personne n'a répondu à cette question. \n",
      "Pour la question de Laurent Laporte sur les solutions RH pour une société internationale, personne n'a répondu à cette question. \n",
      "Pour la question sur la création d'une fondation pour coordonner des dons de plusieurs entreprises, personne n'a répondu à cette question. Il est recommandé de contacter les membres du groupe qui ont de l'expérience dans ce domaine ou de chercher un expert à contacter.\n",
      "________________________________________________________________________________\n",
      "question         Hello, on cherche des options pour outsourcer une partie de notre tech hors ...\n",
      "base_response    Salut ! Smile en Ukraine est une entreprise partenaire fiable avec des dével...\n",
      "Name: 4, dtype: object\n"
     ]
    },
    {
     "name": "stderr",
     "output_type": "stream",
     "text": [
      "Batches: 100%|██████████| 1/1 [00:00<00:00, 12.71it/s]\n"
     ]
    },
    {
     "name": "stdout",
     "output_type": "stream",
     "text": [
      "<no response>\n",
      "________________________________________________________________________________\n",
      "question         Hello Ça serait génial d organiser un talk pour qu on puisse partager nos ex...\n",
      "base_response                                                                   <pas de reponse>\n",
      "Name: 5, dtype: object\n"
     ]
    },
    {
     "name": "stderr",
     "output_type": "stream",
     "text": [
      "Batches: 100%|██████████| 1/1 [00:00<00:00, 21.77it/s]\n"
     ]
    },
    {
     "name": "stdout",
     "output_type": "stream",
     "text": [
      "<no response>\n",
      "________________________________________________________________________________\n",
      "question         Salut les galions\n",
      "base_response     <pas de reponse>\n",
      "Name: 6, dtype: object\n"
     ]
    },
    {
     "name": "stderr",
     "output_type": "stream",
     "text": [
      "Batches: 100%|██████████| 1/1 [00:00<00:00, 28.41it/s]\n"
     ]
    },
    {
     "name": "stdout",
     "output_type": "stream",
     "text": [
      "<no response>\n",
      "________________________________________________________________________________\n",
      "question         Est-ce que vous avez des outils pour créer un organigramme incluant les péri...\n",
      "base_response    Salut ! Plusieurs outils ont été recommandés pour créer des organigrammes in...\n",
      "Name: 7, dtype: object\n"
     ]
    },
    {
     "name": "stderr",
     "output_type": "stream",
     "text": [
      "Batches: 100%|██████████| 1/1 [00:00<00:00, 15.76it/s]\n"
     ]
    },
    {
     "name": "stdout",
     "output_type": "stream",
     "text": [
      "<no response>\n",
      "________________________________________________________________________________\n",
      "question         Est-ce que quelqu'un a 20+ postes avec 1/2 salles de réunion à Paris disponi...\n",
      "base_response                                                                   <pas de reponse>\n",
      "Name: 8, dtype: object\n"
     ]
    },
    {
     "name": "stderr",
     "output_type": "stream",
     "text": [
      "Batches: 100%|██████████| 1/1 [00:00<00:00, 21.75it/s]\n"
     ]
    },
    {
     "name": "stdout",
     "output_type": "stream",
     "text": [
      "<no response>\n",
      "________________________________________________________________________________\n",
      "question         Est-ce que d'autres entreprises ont adopté la semaine de 4 jours comme Welco...\n",
      "base_response    Salut ! Selon Adrien CHALTIEL, Jérémy CLEDAT de Welcome to the Jungle a conf...\n",
      "Name: 9, dtype: object\n"
     ]
    },
    {
     "name": "stderr",
     "output_type": "stream",
     "text": [
      "Batches: 100%|██████████| 1/1 [00:00<00:00, 18.95it/s]\n"
     ]
    },
    {
     "name": "stdout",
     "output_type": "stream",
     "text": [
      "<no response>\n",
      "________________________________________________________________________________\n",
      "question                                 Utilisez-vous des logiciels pour le suivi de vos OKRs ?\n",
      "base_response    Salut @Sylvain GASC, voici quelques recommandations pour le suivi de tes OKR...\n",
      "Name: 10, dtype: object\n"
     ]
    },
    {
     "name": "stderr",
     "output_type": "stream",
     "text": [
      "Batches: 100%|██████████| 1/1 [00:00<00:00, 25.05it/s]\n"
     ]
    },
    {
     "name": "stdout",
     "output_type": "stream",
     "text": [
      "<no response>\n",
      "________________________________________________________________________________\n",
      "question                 Avez-vous déjà travaillé avec IPTP pour vendre un actif technologique ?\n",
      "base_response    Salut Jack ! Plusieurs personnes ont travaillé avec IPTP pour des ventes d'a...\n",
      "Name: 11, dtype: object\n"
     ]
    },
    {
     "name": "stderr",
     "output_type": "stream",
     "text": [
      "Batches: 100%|██████████| 1/1 [00:00<00:00, 24.69it/s]\n"
     ]
    },
    {
     "name": "stdout",
     "output_type": "stream",
     "text": [
      "<no response>\n",
      "________________________________________________________________________________\n",
      "question         Quel est le coût moyen d'un architecte ou d'un maître d'œuvre pour une resta...\n",
      "base_response    Voici les informations pertinentes que j'ai pu trouver dans les conversation...\n",
      "Name: 12, dtype: object\n"
     ]
    },
    {
     "name": "stderr",
     "output_type": "stream",
     "text": [
      "Batches: 100%|██████████| 1/1 [00:00<00:00, 19.44it/s]\n"
     ]
    },
    {
     "name": "stdout",
     "output_type": "stream",
     "text": [
      "<no response>\n",
      "________________________________________________________________________________\n",
      "question         Est-ce que quelqu'un a déjà pris l'abonnement à Figures pour obtenir des inf...\n",
      "base_response    Salut ! Plusieurs personnes ont souscrit à l'offre de Figures pour obtenir d...\n",
      "Name: 13, dtype: object\n"
     ]
    },
    {
     "name": "stderr",
     "output_type": "stream",
     "text": [
      "Batches: 100%|██████████| 1/1 [00:00<00:00, 19.75it/s]\n"
     ]
    },
    {
     "name": "stdout",
     "output_type": "stream",
     "text": [
      "<no response>\n",
      "________________________________________________________________________________\n",
      "question         Existe-t-il un outil pour détecter automatiquement des mots-clés dans les e-...\n",
      "base_response    Bien sûr ! Il existe plusieurs outils pour détecter automatiquement des mots...\n",
      "Name: 14, dtype: object\n"
     ]
    },
    {
     "name": "stderr",
     "output_type": "stream",
     "text": [
      "Batches: 100%|██████████| 1/1 [00:00<00:00, 22.34it/s]\n"
     ]
    },
    {
     "name": "stdout",
     "output_type": "stream",
     "text": [
      "<no response>\n",
      "________________________________________________________________________________\n",
      "question         Quels sont les indicateurs à utiliser en méthode scrum pour mesurer l'impact...\n",
      "base_response    Selon les conseils de @Yohan BENTOLILA, la vélocité (nombre de tâches par sp...\n",
      "Name: 15, dtype: object\n"
     ]
    },
    {
     "name": "stderr",
     "output_type": "stream",
     "text": [
      "Batches: 100%|██████████| 1/1 [00:00<00:00, 17.45it/s]\n"
     ]
    },
    {
     "name": "stdout",
     "output_type": "stream",
     "text": [
      "<no response>\n",
      "________________________________________________________________________________\n",
      "question                    Pouvez-vous me recommander un avocat social abordable et compétent ?\n",
      "base_response    Bien sûr, je peux t'aider à trouver un avocat social compétent et abordable....\n",
      "Name: 16, dtype: object\n"
     ]
    },
    {
     "name": "stderr",
     "output_type": "stream",
     "text": [
      "Batches: 100%|██████████| 1/1 [00:00<00:00, 24.08it/s]\n"
     ]
    },
    {
     "name": "stdout",
     "output_type": "stream",
     "text": [
      "Je vous recommande l'avocate mentionnée par Pierre Laprée dans son message : elle a géré des PSE chez Adecco et est donc compétente en droit social. Cependant, je ne suis pas au courant de ses tarifs, donc je ne peux pas confirmer si elle est abordable. (Réponse basée sur le message de Pierre Laprée (20407))\n",
      "________________________________________________________________________________\n",
      "question                  Est-il possible pour un stagiaire de valider un stage en télétravail ?\n",
      "base_response    Selon @Virginie DUCROT, un stagiaire ne peut pas valider un stage sans tuteu...\n",
      "Name: 17, dtype: object\n"
     ]
    },
    {
     "name": "stderr",
     "output_type": "stream",
     "text": [
      "Batches: 100%|██████████| 1/1 [00:00<00:00, 18.88it/s]\n"
     ]
    },
    {
     "name": "stdout",
     "output_type": "stream",
     "text": [
      "<no response>\n",
      "________________________________________________________________________________\n",
      "question         Est-ce que quelqu'un a de l'expérience avec des convertibles/bridges (post s...\n",
      "base_response    Salut ! Si j'ai bien compris, tu cherches des informations sur les points de...\n",
      "Name: 18, dtype: object\n"
     ]
    },
    {
     "name": "stderr",
     "output_type": "stream",
     "text": [
      "Batches: 100%|██████████| 1/1 [00:00<00:00, 16.17it/s]\n"
     ]
    },
    {
     "name": "stdout",
     "output_type": "stream",
     "text": [
      "<no response>\n",
      "________________________________________________________________________________\n",
      "question         Est-ce normal que les entreprises récupèrent très peu sur les salariés en co...\n",
      "base_response    Salut ! Selon les échanges précédents, il est normal que les entreprises réc...\n",
      "Name: 19, dtype: object\n"
     ]
    },
    {
     "name": "stderr",
     "output_type": "stream",
     "text": [
      "Batches: 100%|██████████| 1/1 [00:00<00:00, 14.15it/s]\n"
     ]
    },
    {
     "name": "stdout",
     "output_type": "stream",
     "text": [
      "<no response>\n",
      "________________________________________________________________________________\n",
      "question         Quel est le meilleur cabinet d'avocats pour obtenir des conseils en matière ...\n",
      "base_response    Salut ! Voici quelques cabinets d'avocats recommandés pour des conseils en p...\n",
      "Name: 20, dtype: object\n"
     ]
    },
    {
     "name": "stderr",
     "output_type": "stream",
     "text": [
      "Batches: 100%|██████████| 1/1 [00:00<00:00, 17.88it/s]\n"
     ]
    },
    {
     "name": "stdout",
     "output_type": "stream",
     "text": [
      "<no response>\n",
      "________________________________________________________________________________\n",
      "question         Serait-il envisageable d'adopter une approche européenne voire franco-allema...\n",
      "base_response    Salut ! Adopter une approche européenne ou franco-allemande pour la mise en ...\n",
      "Name: 21, dtype: object\n"
     ]
    },
    {
     "name": "stderr",
     "output_type": "stream",
     "text": [
      "Batches: 100%|██████████| 1/1 [00:00<00:00, 18.93it/s]\n"
     ]
    },
    {
     "name": "stdout",
     "output_type": "stream",
     "text": [
      "<no response>\n",
      "________________________________________________________________________________\n",
      "question         Est-ce que quelqu'un peut faire une introduction pour moi puisque Loïc Soube...\n",
      "base_response                                                                   <pas de reponse>\n",
      "Name: 22, dtype: object\n"
     ]
    },
    {
     "name": "stderr",
     "output_type": "stream",
     "text": [
      "Batches: 100%|██████████| 1/1 [00:00<00:00, 16.57it/s]\n"
     ]
    },
    {
     "name": "stdout",
     "output_type": "stream",
     "text": [
      "<no response>\n",
      "________________________________________________________________________________\n",
      "question         Est-ce que quelqu'un pourrait recommander des consultants/experts pour aider...\n",
      "base_response    Salut ! Selon @Sebastien MONTEIL, je te recommande de contacter Adrien, le C...\n",
      "Name: 23, dtype: object\n"
     ]
    },
    {
     "name": "stderr",
     "output_type": "stream",
     "text": [
      "Batches: 100%|██████████| 1/1 [00:00<00:00, 14.23it/s]\n"
     ]
    },
    {
     "name": "stdout",
     "output_type": "stream",
     "text": [
      "Thomas Solignac recommande François-Guillaume Ribreau comme expert tech pour auditer un pôle et préconiser une réorganisation efficace, mais il faut vérifier qu'il fasse tout le scope dont on a besoin (message 20181). \n",
      "\n",
      "Il n'y a pas de réponse directe à la question posée sur les consultants/experts pour redéfinir l'architecture d'un data lake et mettre à jour sur les dernières technologies pertinentes. Si quelqu'un du groupe possède cette expertise, il est conseillé de contacter directement cette personne. Sinon, il est possible de demander des recommandations à l'extérieur du groupe.\n",
      "________________________________________________________________________________\n",
      "question         Est-ce que certains d'entre vous utilisent Salesforce pour la gestion de tic...\n",
      "base_response    Salut ! Je comprends que tu cherches une alternative à Zendesk pour la gesti...\n",
      "Name: 24, dtype: object\n"
     ]
    },
    {
     "name": "stderr",
     "output_type": "stream",
     "text": [
      "Batches: 100%|██████████| 1/1 [00:00<00:00, 15.64it/s]\n"
     ]
    },
    {
     "name": "stdout",
     "output_type": "stream",
     "text": [
      "<no response>\n",
      "________________________________________________________________________________\n",
      "question                Quel est le taux journalier facturé pour ceux qui utilisent 2c finance ?\n",
      "base_response    Voici les informations que j'ai pu trouver sur le taux journalier facturé po...\n",
      "Name: 25, dtype: object\n"
     ]
    },
    {
     "name": "stderr",
     "output_type": "stream",
     "text": [
      "Batches: 100%|██████████| 1/1 [00:00<00:00, 23.04it/s]\n"
     ]
    },
    {
     "name": "stdout",
     "output_type": "stream",
     "text": [
      "<no response>\n",
      "________________________________________________________________________________\n",
      "question         Est-ce que quelqu'un pourrait m'aider à trouver un spécialiste en affiliatio...\n",
      "base_response    Salut ! Je peux t'aider à trouver un spécialiste en affiliation et cashback....\n",
      "Name: 26, dtype: object\n"
     ]
    },
    {
     "name": "stderr",
     "output_type": "stream",
     "text": [
      "Batches: 100%|██████████| 1/1 [00:00<00:00, 17.77it/s]\n"
     ]
    },
    {
     "name": "stdout",
     "output_type": "stream",
     "text": [
      "<no response>\n",
      "________________________________________________________________________________\n",
      "question         Avez-vous obtenu un accord pour une période de demande d'activité partielle ...\n",
      "base_response    Salut ! Selon @Ilias HICHAM, des demandes d'activité partielle pour une péri...\n",
      "Name: 27, dtype: object\n"
     ]
    },
    {
     "name": "stderr",
     "output_type": "stream",
     "text": [
      "Batches: 100%|██████████| 1/1 [00:00<00:00, 15.02it/s]\n"
     ]
    },
    {
     "name": "stdout",
     "output_type": "stream",
     "text": [
      "<no response>\n",
      "________________________________________________________________________________\n",
      "question                         Quel recruteur recommandez-vous pour le recrutement d'un/e CEO?\n",
      "base_response    Salut ! Plusieurs chasseurs de têtes ont été recommandés pour le recrutement...\n",
      "Name: 28, dtype: object\n"
     ]
    },
    {
     "name": "stderr",
     "output_type": "stream",
     "text": [
      "Batches: 100%|██████████| 1/1 [00:00<00:00, 23.97it/s]\n"
     ]
    },
    {
     "name": "stdout",
     "output_type": "stream",
     "text": [
      "<no response>\n",
      "________________________________________________________________________________\n",
      "question         Quel est le nom du cabinet recommandé lors du changement de conseils et pour...\n",
      "base_response    Salut @utilisateur, Selon @Victor WACRENIER, Jones Day est le seul cabinet q...\n",
      "Name: 29, dtype: object\n"
     ]
    },
    {
     "name": "stderr",
     "output_type": "stream",
     "text": [
      "Batches: 100%|██████████| 1/1 [00:00<00:00, 17.82it/s]\n"
     ]
    },
    {
     "name": "stdout",
     "output_type": "stream",
     "text": [
      "<no response>\n",
      "________________________________________________________________________________\n",
      "question         Comment sont calculées les commissions sur les ventes auprès des clients exi...\n",
      "base_response                                                                   <pas de reponse>\n",
      "Name: 30, dtype: object\n"
     ]
    },
    {
     "name": "stderr",
     "output_type": "stream",
     "text": [
      "Batches: 100%|██████████| 1/1 [00:00<00:00, 17.88it/s]\n"
     ]
    },
    {
     "name": "stdout",
     "output_type": "stream",
     "text": [
      "<no response>\n",
      "________________________________________________________________________________\n",
      "question         Quel est votre avis sur le choix entre la rentabilité et l'accélération pour...\n",
      "base_response    Selon @Adrien CHALTIEL, les investisseurs recherchent des startups avec un m...\n",
      "Name: 31, dtype: object\n"
     ]
    },
    {
     "name": "stderr",
     "output_type": "stream",
     "text": [
      "Batches: 100%|██████████| 1/1 [00:00<00:00, 14.81it/s]\n"
     ]
    },
    {
     "name": "stdout",
     "output_type": "stream",
     "text": [
      "<no response>\n",
      "________________________________________________________________________________\n",
      "question         Quelle est votre opinion sur les différentes tendances en matière d'onboardi...\n",
      "base_response    Salut ! Selon les échanges précédents, l'onboarding in-app semble être la te...\n",
      "Name: 32, dtype: object\n"
     ]
    },
    {
     "name": "stderr",
     "output_type": "stream",
     "text": [
      "Batches: 100%|██████████| 1/1 [00:00<00:00, 22.00it/s]\n"
     ]
    },
    {
     "name": "stdout",
     "output_type": "stream",
     "text": [
      "<no response>\n",
      "________________________________________________________________________________\n",
      "question         Est-ce que quelqu'un a des suggestions de modèles pour motiver un profession...\n",
      "base_response    Salut @Guillaume LAPORTE, Pour motiver un professionnel Senior du marketing,...\n",
      "Name: 33, dtype: object\n"
     ]
    },
    {
     "name": "stderr",
     "output_type": "stream",
     "text": [
      "Batches: 100%|██████████| 1/1 [00:00<00:00, 17.38it/s]\n"
     ]
    },
    {
     "name": "stdout",
     "output_type": "stream",
     "text": [
      "<no response>\n",
      "________________________________________________________________________________\n",
      "question         Quelle plateforme RH utilisez-vous pour les entretiens annuels, feedback 360...\n",
      "base_response    Voici les plateformes RH recommandées pour les entretiens annuels et les fee...\n",
      "Name: 34, dtype: object\n"
     ]
    },
    {
     "name": "stderr",
     "output_type": "stream",
     "text": [
      "Batches: 100%|██████████| 1/1 [00:00<00:00, 24.48it/s]\n"
     ]
    },
    {
     "name": "stdout",
     "output_type": "stream",
     "text": [
      "<no response>\n",
      "________________________________________________________________________________\n",
      "question         Edouard, connais-tu l'offre entreprise de Nabla qui comprend des télé-consul...\n",
      "base_response    Salut Edouard ! Selon Simon DAWLAT, l'équipe RH de Nabla est en train d'impl...\n",
      "Name: 35, dtype: object\n"
     ]
    },
    {
     "name": "stderr",
     "output_type": "stream",
     "text": [
      "Batches: 100%|██████████| 1/1 [00:00<00:00, 13.64it/s]\n"
     ]
    },
    {
     "name": "stdout",
     "output_type": "stream",
     "text": [
      "<no response>\n",
      "________________________________________________________________________________\n",
      "question         Quelqu'un peut-il m'informer sur l'extension de l'IP BOX aux éditeurs de log...\n",
      "base_response    Salut ! Je peux t'informer sur l'IP BOX pour les éditeurs de logiciels. Selo...\n",
      "Name: 36, dtype: object\n"
     ]
    },
    {
     "name": "stderr",
     "output_type": "stream",
     "text": [
      "Batches: 100%|██████████| 1/1 [00:00<00:00, 14.44it/s]\n"
     ]
    },
    {
     "name": "stdout",
     "output_type": "stream",
     "text": [
      "<no response>\n",
      "________________________________________________________________________________\n",
      "question         Quelle est la solution de logement la plus rentable pour un employé qui comm...\n",
      "base_response                                                                   <pas de reponse>\n",
      "Name: 37, dtype: object\n"
     ]
    },
    {
     "name": "stderr",
     "output_type": "stream",
     "text": [
      "Batches: 100%|██████████| 1/1 [00:00<00:00, 10.77it/s]\n"
     ]
    },
    {
     "name": "stdout",
     "output_type": "stream",
     "text": [
      "<no response>\n",
      "________________________________________________________________________________\n",
      "question         Quels sont les risques pour les sites internet suite à la décision de la CNI...\n",
      "base_response    • Selon @Bertrand FREDENUCCI, la décision de la CNIL de déclarer illégal le ...\n",
      "Name: 38, dtype: object\n"
     ]
    },
    {
     "name": "stderr",
     "output_type": "stream",
     "text": [
      "Batches: 100%|██████████| 1/1 [00:00<00:00, 14.92it/s]\n"
     ]
    },
    {
     "name": "stdout",
     "output_type": "stream",
     "text": [
      "Certains gros retailers sont 100% opposés au fait que leurs données se promènent chez AWS. Ce n'est pas du tout négociable. [Sébastien Garcin YZR] Cependant, il n'y a pas d'informations dans les messages concernant la décision de la CNIL de déclarer illégal le recours à Google Analytics. Il est recommandé de contacter les membres du groupe pour obtenir de l'aide supplémentaire. <br><br>\n",
      "________________________________________________________________________________\n",
      "question         Avez-vous des conseils sur la manière de bien utiliser un corner de 20m2 aux...\n",
      "base_response                                                                   <pas de reponse>\n",
      "Name: 39, dtype: object\n"
     ]
    },
    {
     "name": "stderr",
     "output_type": "stream",
     "text": [
      "Batches: 100%|██████████| 1/1 [00:00<00:00, 21.80it/s]\n"
     ]
    },
    {
     "name": "stdout",
     "output_type": "stream",
     "text": [
      "<no response>\n",
      "________________________________________________________________________________\n",
      "question         Est-ce que vous connaissez des boites de formation référencées Datadock adap...\n",
      "base_response    Salut ! Voici quelques boîtes de formation référencées Datadock qui pourraie...\n",
      "Name: 40, dtype: object\n"
     ]
    },
    {
     "name": "stderr",
     "output_type": "stream",
     "text": [
      "Batches: 100%|██████████| 1/1 [00:00<00:00, 19.59it/s]\n"
     ]
    },
    {
     "name": "stdout",
     "output_type": "stream",
     "text": [
      "<no response>\n",
      "________________________________________________________________________________\n",
      "question         Est-ce que quelqu'un a un contact en ventes chez Hubspot ?\n",
      "base_response                                              <pas de reponse>\n",
      "Name: 41, dtype: object\n"
     ]
    },
    {
     "name": "stderr",
     "output_type": "stream",
     "text": [
      "Batches: 100%|██████████| 1/1 [00:00<00:00, 27.15it/s]\n"
     ]
    },
    {
     "name": "stdout",
     "output_type": "stream",
     "text": [
      "<no response>\n",
      "________________________________________________________________________________\n",
      "question         Quelles sont les forces et faiblesses de Hubspot et Salesforce pour la gesti...\n",
      "base_response    Hubspot est souvent considéré comme le choix préféré pour la gestion de B2B,...\n",
      "Name: 42, dtype: object\n"
     ]
    },
    {
     "name": "stderr",
     "output_type": "stream",
     "text": [
      "Batches: 100%|██████████| 1/1 [00:00<00:00, 25.87it/s]\n"
     ]
    },
    {
     "name": "stdout",
     "output_type": "stream",
     "text": [
      "Forces de Hubspot : intégration complète du marketing et des ventes, fonctionnalités de lead scoring et de nurturing, interface utilisateur conviviale, intégrations avec de nombreux autres outils. \n",
      "\n",
      "Faiblesses de Hubspot : la tarification peut être élevée pour les entreprises en croissance, la gestion des contacts peut être limitée pour les entreprises avec un grand nombre de contacts.\n",
      "\n",
      "Forces de Salesforce : une grande flexibilité grâce à une multitude d'options de personnalisation, une grande communauté de développeurs et d'utilisateurs, une intégration complète avec d'autres outils de gestion d'entreprise.\n",
      "\n",
      "Faiblesses de Salesforce : coût élevé, courbe d'apprentissage plus longue, interface utilisateur moins conviviale que celle de Hubspot.\n",
      "\n",
      "(From: Julien MARDAS)\n",
      "________________________________________________________________________________\n",
      "question         Est-ce que quelqu'un utilise Pendo ici et pourrait me fournir un benchmark d...\n",
      "base_response    Salut ! Si tu cherches des informations sur les tarifs de Pendo pour un supp...\n",
      "Name: 43, dtype: object\n"
     ]
    },
    {
     "name": "stderr",
     "output_type": "stream",
     "text": [
      "Batches: 100%|██████████| 1/1 [00:00<00:00, 12.53it/s]\n"
     ]
    },
    {
     "name": "stdout",
     "output_type": "stream",
     "text": [
      "<no response>\n",
      "________________________________________________________________________________\n",
      "question         Est-ce que quelqu'un a un contact haut placé chez OVH pour discuter de notre...\n",
      "base_response    Salut ! Je peux t'aider à trouver un contact haut placé chez OVH pour discut...\n",
      "Name: 44, dtype: object\n"
     ]
    },
    {
     "name": "stderr",
     "output_type": "stream",
     "text": [
      "Batches: 100%|██████████| 1/1 [00:00<00:00, 30.94it/s]\n"
     ]
    },
    {
     "name": "stdout",
     "output_type": "stream",
     "text": [
      "<no response>\n",
      "________________________________________________________________________________\n",
      "question         Comment organiser le travail en équipes distinctes pour éviter l'arrêt de la...\n",
      "base_response    - Une solution pour éviter l'arrêt de la production en cas de contamination ...\n",
      "Name: 45, dtype: object\n"
     ]
    },
    {
     "name": "stderr",
     "output_type": "stream",
     "text": [
      "Batches: 100%|██████████| 1/1 [00:00<00:00, 13.92it/s]\n"
     ]
    },
    {
     "name": "stdout",
     "output_type": "stream",
     "text": [
      "<no response>\n",
      "________________________________________________________________________________\n",
      "question         Quelqu'un peut-il me dire si Chateauform est un endroit de qualité pour hébe...\n",
      "base_response    Salut ! Plusieurs personnes ont recommandé Chateauform comme un endroit de q...\n",
      "Name: 46, dtype: object\n"
     ]
    },
    {
     "name": "stderr",
     "output_type": "stream",
     "text": [
      "Batches: 100%|██████████| 1/1 [00:00<00:00, 32.24it/s]\n"
     ]
    },
    {
     "ename": "Exception",
     "evalue": "Exception while running node 'Generator': HTTPSConnectionPool(host='api.openai.com', port=443): Read timed out. (read timeout=30.0)\nEnable debug logging to see the data that was passed when the pipeline failed.",
     "output_type": "error",
     "traceback": [
      "\u001b[0;31m---------------------------------------------------------------------------\u001b[0m",
      "\u001b[0;31mTimeoutError\u001b[0m                              Traceback (most recent call last)",
      "File \u001b[0;32m/workspaces/Valet/.venv/lib/python3.10/site-packages/urllib3/connectionpool.py:449\u001b[0m, in \u001b[0;36mHTTPConnectionPool._make_request\u001b[0;34m(self, conn, method, url, timeout, chunked, **httplib_request_kw)\u001b[0m\n\u001b[1;32m    445\u001b[0m         \u001b[39mexcept\u001b[39;00m \u001b[39mBaseException\u001b[39;00m \u001b[39mas\u001b[39;00m e:\n\u001b[1;32m    446\u001b[0m             \u001b[39m# Remove the TypeError from the exception chain in\u001b[39;00m\n\u001b[1;32m    447\u001b[0m             \u001b[39m# Python 3 (including for exceptions like SystemExit).\u001b[39;00m\n\u001b[1;32m    448\u001b[0m             \u001b[39m# Otherwise it looks like a bug in the code.\u001b[39;00m\n\u001b[0;32m--> 449\u001b[0m             six\u001b[39m.\u001b[39;49mraise_from(e, \u001b[39mNone\u001b[39;49;00m)\n\u001b[1;32m    450\u001b[0m \u001b[39mexcept\u001b[39;00m (SocketTimeout, BaseSSLError, SocketError) \u001b[39mas\u001b[39;00m e:\n",
      "File \u001b[0;32m<string>:3\u001b[0m, in \u001b[0;36mraise_from\u001b[0;34m(value, from_value)\u001b[0m\n",
      "File \u001b[0;32m/workspaces/Valet/.venv/lib/python3.10/site-packages/urllib3/connectionpool.py:444\u001b[0m, in \u001b[0;36mHTTPConnectionPool._make_request\u001b[0;34m(self, conn, method, url, timeout, chunked, **httplib_request_kw)\u001b[0m\n\u001b[1;32m    443\u001b[0m \u001b[39mtry\u001b[39;00m:\n\u001b[0;32m--> 444\u001b[0m     httplib_response \u001b[39m=\u001b[39m conn\u001b[39m.\u001b[39;49mgetresponse()\n\u001b[1;32m    445\u001b[0m \u001b[39mexcept\u001b[39;00m \u001b[39mBaseException\u001b[39;00m \u001b[39mas\u001b[39;00m e:\n\u001b[1;32m    446\u001b[0m     \u001b[39m# Remove the TypeError from the exception chain in\u001b[39;00m\n\u001b[1;32m    447\u001b[0m     \u001b[39m# Python 3 (including for exceptions like SystemExit).\u001b[39;00m\n\u001b[1;32m    448\u001b[0m     \u001b[39m# Otherwise it looks like a bug in the code.\u001b[39;00m\n",
      "File \u001b[0;32m/usr/local/python/3.10.4/lib/python3.10/http/client.py:1374\u001b[0m, in \u001b[0;36mHTTPConnection.getresponse\u001b[0;34m(self)\u001b[0m\n\u001b[1;32m   1373\u001b[0m \u001b[39mtry\u001b[39;00m:\n\u001b[0;32m-> 1374\u001b[0m     response\u001b[39m.\u001b[39;49mbegin()\n\u001b[1;32m   1375\u001b[0m \u001b[39mexcept\u001b[39;00m \u001b[39mConnectionError\u001b[39;00m:\n",
      "File \u001b[0;32m/usr/local/python/3.10.4/lib/python3.10/http/client.py:318\u001b[0m, in \u001b[0;36mHTTPResponse.begin\u001b[0;34m(self)\u001b[0m\n\u001b[1;32m    317\u001b[0m \u001b[39mwhile\u001b[39;00m \u001b[39mTrue\u001b[39;00m:\n\u001b[0;32m--> 318\u001b[0m     version, status, reason \u001b[39m=\u001b[39m \u001b[39mself\u001b[39;49m\u001b[39m.\u001b[39;49m_read_status()\n\u001b[1;32m    319\u001b[0m     \u001b[39mif\u001b[39;00m status \u001b[39m!=\u001b[39m CONTINUE:\n",
      "File \u001b[0;32m/usr/local/python/3.10.4/lib/python3.10/http/client.py:279\u001b[0m, in \u001b[0;36mHTTPResponse._read_status\u001b[0;34m(self)\u001b[0m\n\u001b[1;32m    278\u001b[0m \u001b[39mdef\u001b[39;00m \u001b[39m_read_status\u001b[39m(\u001b[39mself\u001b[39m):\n\u001b[0;32m--> 279\u001b[0m     line \u001b[39m=\u001b[39m \u001b[39mstr\u001b[39m(\u001b[39mself\u001b[39;49m\u001b[39m.\u001b[39;49mfp\u001b[39m.\u001b[39;49mreadline(_MAXLINE \u001b[39m+\u001b[39;49m \u001b[39m1\u001b[39;49m), \u001b[39m\"\u001b[39m\u001b[39miso-8859-1\u001b[39m\u001b[39m\"\u001b[39m)\n\u001b[1;32m    280\u001b[0m     \u001b[39mif\u001b[39;00m \u001b[39mlen\u001b[39m(line) \u001b[39m>\u001b[39m _MAXLINE:\n",
      "File \u001b[0;32m/usr/local/python/3.10.4/lib/python3.10/socket.py:705\u001b[0m, in \u001b[0;36mSocketIO.readinto\u001b[0;34m(self, b)\u001b[0m\n\u001b[1;32m    704\u001b[0m \u001b[39mtry\u001b[39;00m:\n\u001b[0;32m--> 705\u001b[0m     \u001b[39mreturn\u001b[39;00m \u001b[39mself\u001b[39;49m\u001b[39m.\u001b[39;49m_sock\u001b[39m.\u001b[39;49mrecv_into(b)\n\u001b[1;32m    706\u001b[0m \u001b[39mexcept\u001b[39;00m timeout:\n",
      "File \u001b[0;32m/usr/local/python/3.10.4/lib/python3.10/ssl.py:1273\u001b[0m, in \u001b[0;36mSSLSocket.recv_into\u001b[0;34m(self, buffer, nbytes, flags)\u001b[0m\n\u001b[1;32m   1270\u001b[0m         \u001b[39mraise\u001b[39;00m \u001b[39mValueError\u001b[39;00m(\n\u001b[1;32m   1271\u001b[0m           \u001b[39m\"\u001b[39m\u001b[39mnon-zero flags not allowed in calls to recv_into() on \u001b[39m\u001b[39m%s\u001b[39;00m\u001b[39m\"\u001b[39m \u001b[39m%\u001b[39m\n\u001b[1;32m   1272\u001b[0m           \u001b[39mself\u001b[39m\u001b[39m.\u001b[39m\u001b[39m__class__\u001b[39m)\n\u001b[0;32m-> 1273\u001b[0m     \u001b[39mreturn\u001b[39;00m \u001b[39mself\u001b[39;49m\u001b[39m.\u001b[39;49mread(nbytes, buffer)\n\u001b[1;32m   1274\u001b[0m \u001b[39melse\u001b[39;00m:\n",
      "File \u001b[0;32m/usr/local/python/3.10.4/lib/python3.10/ssl.py:1129\u001b[0m, in \u001b[0;36mSSLSocket.read\u001b[0;34m(self, len, buffer)\u001b[0m\n\u001b[1;32m   1128\u001b[0m \u001b[39mif\u001b[39;00m buffer \u001b[39mis\u001b[39;00m \u001b[39mnot\u001b[39;00m \u001b[39mNone\u001b[39;00m:\n\u001b[0;32m-> 1129\u001b[0m     \u001b[39mreturn\u001b[39;00m \u001b[39mself\u001b[39;49m\u001b[39m.\u001b[39;49m_sslobj\u001b[39m.\u001b[39;49mread(\u001b[39mlen\u001b[39;49m, buffer)\n\u001b[1;32m   1130\u001b[0m \u001b[39melse\u001b[39;00m:\n",
      "\u001b[0;31mTimeoutError\u001b[0m: The read operation timed out",
      "\nDuring handling of the above exception, another exception occurred:\n",
      "\u001b[0;31mReadTimeoutError\u001b[0m                          Traceback (most recent call last)",
      "File \u001b[0;32m/workspaces/Valet/.venv/lib/python3.10/site-packages/requests/adapters.py:489\u001b[0m, in \u001b[0;36mHTTPAdapter.send\u001b[0;34m(self, request, stream, timeout, verify, cert, proxies)\u001b[0m\n\u001b[1;32m    488\u001b[0m \u001b[39mif\u001b[39;00m \u001b[39mnot\u001b[39;00m chunked:\n\u001b[0;32m--> 489\u001b[0m     resp \u001b[39m=\u001b[39m conn\u001b[39m.\u001b[39;49murlopen(\n\u001b[1;32m    490\u001b[0m         method\u001b[39m=\u001b[39;49mrequest\u001b[39m.\u001b[39;49mmethod,\n\u001b[1;32m    491\u001b[0m         url\u001b[39m=\u001b[39;49murl,\n\u001b[1;32m    492\u001b[0m         body\u001b[39m=\u001b[39;49mrequest\u001b[39m.\u001b[39;49mbody,\n\u001b[1;32m    493\u001b[0m         headers\u001b[39m=\u001b[39;49mrequest\u001b[39m.\u001b[39;49mheaders,\n\u001b[1;32m    494\u001b[0m         redirect\u001b[39m=\u001b[39;49m\u001b[39mFalse\u001b[39;49;00m,\n\u001b[1;32m    495\u001b[0m         assert_same_host\u001b[39m=\u001b[39;49m\u001b[39mFalse\u001b[39;49;00m,\n\u001b[1;32m    496\u001b[0m         preload_content\u001b[39m=\u001b[39;49m\u001b[39mFalse\u001b[39;49;00m,\n\u001b[1;32m    497\u001b[0m         decode_content\u001b[39m=\u001b[39;49m\u001b[39mFalse\u001b[39;49;00m,\n\u001b[1;32m    498\u001b[0m         retries\u001b[39m=\u001b[39;49m\u001b[39mself\u001b[39;49m\u001b[39m.\u001b[39;49mmax_retries,\n\u001b[1;32m    499\u001b[0m         timeout\u001b[39m=\u001b[39;49mtimeout,\n\u001b[1;32m    500\u001b[0m     )\n\u001b[1;32m    502\u001b[0m \u001b[39m# Send the request.\u001b[39;00m\n\u001b[1;32m    503\u001b[0m \u001b[39melse\u001b[39;00m:\n",
      "File \u001b[0;32m/workspaces/Valet/.venv/lib/python3.10/site-packages/urllib3/connectionpool.py:787\u001b[0m, in \u001b[0;36mHTTPConnectionPool.urlopen\u001b[0;34m(self, method, url, body, headers, retries, redirect, assert_same_host, timeout, pool_timeout, release_conn, chunked, body_pos, **response_kw)\u001b[0m\n\u001b[1;32m    785\u001b[0m     e \u001b[39m=\u001b[39m ProtocolError(\u001b[39m\"\u001b[39m\u001b[39mConnection aborted.\u001b[39m\u001b[39m\"\u001b[39m, e)\n\u001b[0;32m--> 787\u001b[0m retries \u001b[39m=\u001b[39m retries\u001b[39m.\u001b[39;49mincrement(\n\u001b[1;32m    788\u001b[0m     method, url, error\u001b[39m=\u001b[39;49me, _pool\u001b[39m=\u001b[39;49m\u001b[39mself\u001b[39;49m, _stacktrace\u001b[39m=\u001b[39;49msys\u001b[39m.\u001b[39;49mexc_info()[\u001b[39m2\u001b[39;49m]\n\u001b[1;32m    789\u001b[0m )\n\u001b[1;32m    790\u001b[0m retries\u001b[39m.\u001b[39msleep()\n",
      "File \u001b[0;32m/workspaces/Valet/.venv/lib/python3.10/site-packages/urllib3/util/retry.py:550\u001b[0m, in \u001b[0;36mRetry.increment\u001b[0;34m(self, method, url, response, error, _pool, _stacktrace)\u001b[0m\n\u001b[1;32m    549\u001b[0m \u001b[39mif\u001b[39;00m read \u001b[39mis\u001b[39;00m \u001b[39mFalse\u001b[39;00m \u001b[39mor\u001b[39;00m \u001b[39mnot\u001b[39;00m \u001b[39mself\u001b[39m\u001b[39m.\u001b[39m_is_method_retryable(method):\n\u001b[0;32m--> 550\u001b[0m     \u001b[39mraise\u001b[39;00m six\u001b[39m.\u001b[39;49mreraise(\u001b[39mtype\u001b[39;49m(error), error, _stacktrace)\n\u001b[1;32m    551\u001b[0m \u001b[39melif\u001b[39;00m read \u001b[39mis\u001b[39;00m \u001b[39mnot\u001b[39;00m \u001b[39mNone\u001b[39;00m:\n",
      "File \u001b[0;32m/workspaces/Valet/.venv/lib/python3.10/site-packages/urllib3/packages/six.py:770\u001b[0m, in \u001b[0;36mreraise\u001b[0;34m(tp, value, tb)\u001b[0m\n\u001b[1;32m    769\u001b[0m         \u001b[39mraise\u001b[39;00m value\u001b[39m.\u001b[39mwith_traceback(tb)\n\u001b[0;32m--> 770\u001b[0m     \u001b[39mraise\u001b[39;00m value\n\u001b[1;32m    771\u001b[0m \u001b[39mfinally\u001b[39;00m:\n",
      "File \u001b[0;32m/workspaces/Valet/.venv/lib/python3.10/site-packages/urllib3/connectionpool.py:703\u001b[0m, in \u001b[0;36mHTTPConnectionPool.urlopen\u001b[0;34m(self, method, url, body, headers, retries, redirect, assert_same_host, timeout, pool_timeout, release_conn, chunked, body_pos, **response_kw)\u001b[0m\n\u001b[1;32m    702\u001b[0m \u001b[39m# Make the request on the httplib connection object.\u001b[39;00m\n\u001b[0;32m--> 703\u001b[0m httplib_response \u001b[39m=\u001b[39m \u001b[39mself\u001b[39;49m\u001b[39m.\u001b[39;49m_make_request(\n\u001b[1;32m    704\u001b[0m     conn,\n\u001b[1;32m    705\u001b[0m     method,\n\u001b[1;32m    706\u001b[0m     url,\n\u001b[1;32m    707\u001b[0m     timeout\u001b[39m=\u001b[39;49mtimeout_obj,\n\u001b[1;32m    708\u001b[0m     body\u001b[39m=\u001b[39;49mbody,\n\u001b[1;32m    709\u001b[0m     headers\u001b[39m=\u001b[39;49mheaders,\n\u001b[1;32m    710\u001b[0m     chunked\u001b[39m=\u001b[39;49mchunked,\n\u001b[1;32m    711\u001b[0m )\n\u001b[1;32m    713\u001b[0m \u001b[39m# If we're going to release the connection in ``finally:``, then\u001b[39;00m\n\u001b[1;32m    714\u001b[0m \u001b[39m# the response doesn't need to know about the connection. Otherwise\u001b[39;00m\n\u001b[1;32m    715\u001b[0m \u001b[39m# it will also try to release it and we'll have a double-release\u001b[39;00m\n\u001b[1;32m    716\u001b[0m \u001b[39m# mess.\u001b[39;00m\n",
      "File \u001b[0;32m/workspaces/Valet/.venv/lib/python3.10/site-packages/urllib3/connectionpool.py:451\u001b[0m, in \u001b[0;36mHTTPConnectionPool._make_request\u001b[0;34m(self, conn, method, url, timeout, chunked, **httplib_request_kw)\u001b[0m\n\u001b[1;32m    450\u001b[0m \u001b[39mexcept\u001b[39;00m (SocketTimeout, BaseSSLError, SocketError) \u001b[39mas\u001b[39;00m e:\n\u001b[0;32m--> 451\u001b[0m     \u001b[39mself\u001b[39;49m\u001b[39m.\u001b[39;49m_raise_timeout(err\u001b[39m=\u001b[39;49me, url\u001b[39m=\u001b[39;49murl, timeout_value\u001b[39m=\u001b[39;49mread_timeout)\n\u001b[1;32m    452\u001b[0m     \u001b[39mraise\u001b[39;00m\n",
      "File \u001b[0;32m/workspaces/Valet/.venv/lib/python3.10/site-packages/urllib3/connectionpool.py:340\u001b[0m, in \u001b[0;36mHTTPConnectionPool._raise_timeout\u001b[0;34m(self, err, url, timeout_value)\u001b[0m\n\u001b[1;32m    339\u001b[0m \u001b[39mif\u001b[39;00m \u001b[39misinstance\u001b[39m(err, SocketTimeout):\n\u001b[0;32m--> 340\u001b[0m     \u001b[39mraise\u001b[39;00m ReadTimeoutError(\n\u001b[1;32m    341\u001b[0m         \u001b[39mself\u001b[39m, url, \u001b[39m\"\u001b[39m\u001b[39mRead timed out. (read timeout=\u001b[39m\u001b[39m%s\u001b[39;00m\u001b[39m)\u001b[39m\u001b[39m\"\u001b[39m \u001b[39m%\u001b[39m timeout_value\n\u001b[1;32m    342\u001b[0m     )\n\u001b[1;32m    344\u001b[0m \u001b[39m# See the above comment about EAGAIN in Python 3. In Python 2 we have\u001b[39;00m\n\u001b[1;32m    345\u001b[0m \u001b[39m# to specifically catch it and throw the timeout error\u001b[39;00m\n",
      "\u001b[0;31mReadTimeoutError\u001b[0m: HTTPSConnectionPool(host='api.openai.com', port=443): Read timed out. (read timeout=30.0)",
      "\nDuring handling of the above exception, another exception occurred:\n",
      "\u001b[0;31mReadTimeout\u001b[0m                               Traceback (most recent call last)",
      "File \u001b[0;32m/workspaces/Valet/.venv/lib/python3.10/site-packages/haystack/pipelines/base.py:552\u001b[0m, in \u001b[0;36mPipeline.run\u001b[0;34m(self, query, file_paths, labels, documents, meta, params, debug)\u001b[0m\n\u001b[1;32m    551\u001b[0m start \u001b[39m=\u001b[39m time()\n\u001b[0;32m--> 552\u001b[0m node_output, stream_id \u001b[39m=\u001b[39m \u001b[39mself\u001b[39;49m\u001b[39m.\u001b[39;49m_run_node(node_id, node_input)\n\u001b[1;32m    553\u001b[0m \u001b[39mif\u001b[39;00m \u001b[39m\"\u001b[39m\u001b[39m_debug\u001b[39m\u001b[39m\"\u001b[39m \u001b[39min\u001b[39;00m node_output \u001b[39mand\u001b[39;00m node_id \u001b[39min\u001b[39;00m node_output[\u001b[39m\"\u001b[39m\u001b[39m_debug\u001b[39m\u001b[39m\"\u001b[39m]:\n",
      "File \u001b[0;32m/workspaces/Valet/.venv/lib/python3.10/site-packages/haystack/pipelines/base.py:467\u001b[0m, in \u001b[0;36mPipeline._run_node\u001b[0;34m(self, node_id, node_input)\u001b[0m\n\u001b[1;32m    466\u001b[0m \u001b[39mdef\u001b[39;00m \u001b[39m_run_node\u001b[39m(\u001b[39mself\u001b[39m, node_id: \u001b[39mstr\u001b[39m, node_input: Dict[\u001b[39mstr\u001b[39m, Any]) \u001b[39m-\u001b[39m\u001b[39m>\u001b[39m Tuple[Dict, \u001b[39mstr\u001b[39m]:\n\u001b[0;32m--> 467\u001b[0m     \u001b[39mreturn\u001b[39;00m \u001b[39mself\u001b[39;49m\u001b[39m.\u001b[39;49mgraph\u001b[39m.\u001b[39;49mnodes[node_id][\u001b[39m\"\u001b[39;49m\u001b[39mcomponent\u001b[39;49m\u001b[39m\"\u001b[39;49m]\u001b[39m.\u001b[39;49m_dispatch_run(\u001b[39m*\u001b[39;49m\u001b[39m*\u001b[39;49mnode_input)\n",
      "File \u001b[0;32m/workspaces/Valet/.venv/lib/python3.10/site-packages/haystack/nodes/base.py:201\u001b[0m, in \u001b[0;36mBaseComponent._dispatch_run\u001b[0;34m(self, **kwargs)\u001b[0m\n\u001b[1;32m    197\u001b[0m \u001b[39m\u001b[39m\u001b[39m\"\"\"\u001b[39;00m\n\u001b[1;32m    198\u001b[0m \u001b[39mThe Pipelines call this method when run() is executed. This method in turn executes the _dispatch_run_general()\u001b[39;00m\n\u001b[1;32m    199\u001b[0m \u001b[39mmethod with the correct run method.\u001b[39;00m\n\u001b[1;32m    200\u001b[0m \u001b[39m\"\"\"\u001b[39;00m\n\u001b[0;32m--> 201\u001b[0m \u001b[39mreturn\u001b[39;00m \u001b[39mself\u001b[39;49m\u001b[39m.\u001b[39;49m_dispatch_run_general(\u001b[39mself\u001b[39;49m\u001b[39m.\u001b[39;49mrun, \u001b[39m*\u001b[39;49m\u001b[39m*\u001b[39;49mkwargs)\n",
      "File \u001b[0;32m/workspaces/Valet/.venv/lib/python3.10/site-packages/haystack/nodes/base.py:245\u001b[0m, in \u001b[0;36mBaseComponent._dispatch_run_general\u001b[0;34m(self, run_method, **kwargs)\u001b[0m\n\u001b[1;32m    243\u001b[0m         run_inputs[key] \u001b[39m=\u001b[39m value\n\u001b[0;32m--> 245\u001b[0m output, stream \u001b[39m=\u001b[39m run_method(\u001b[39m*\u001b[39;49m\u001b[39m*\u001b[39;49mrun_inputs, \u001b[39m*\u001b[39;49m\u001b[39m*\u001b[39;49mrun_params)\n\u001b[1;32m    247\u001b[0m \u001b[39m# Collect debug information\u001b[39;00m\n",
      "File \u001b[0;32m/workspaces/Valet/.venv/lib/python3.10/site-packages/haystack/nodes/prompt/prompt_node.py:977\u001b[0m, in \u001b[0;36mPromptNode.run\u001b[0;34m(self, query, file_paths, labels, documents, meta, invocation_context, prompt_template)\u001b[0m\n\u001b[1;32m    975\u001b[0m     invocation_context[\u001b[39m\"\u001b[39m\u001b[39mprompt_template\u001b[39m\u001b[39m\"\u001b[39m] \u001b[39m=\u001b[39m \u001b[39mself\u001b[39m\u001b[39m.\u001b[39mget_prompt_template(prompt_template)\n\u001b[0;32m--> 977\u001b[0m results \u001b[39m=\u001b[39m \u001b[39mself\u001b[39;49m(prompt_collector\u001b[39m=\u001b[39;49mprompt_collector, \u001b[39m*\u001b[39;49m\u001b[39m*\u001b[39;49minvocation_context)\n\u001b[1;32m    979\u001b[0m prompt_template_resolved: PromptTemplate \u001b[39m=\u001b[39m invocation_context\u001b[39m.\u001b[39mpop(\u001b[39m\"\u001b[39m\u001b[39mprompt_template\u001b[39m\u001b[39m\"\u001b[39m)\n",
      "File \u001b[0;32m/workspaces/Valet/.venv/lib/python3.10/site-packages/haystack/nodes/prompt/prompt_node.py:761\u001b[0m, in \u001b[0;36mPromptNode.__call__\u001b[0;34m(self, *args, **kwargs)\u001b[0m\n\u001b[1;32m    760\u001b[0m     kwargs\u001b[39m.\u001b[39mpop(\u001b[39m\"\u001b[39m\u001b[39mprompt_template\u001b[39m\u001b[39m\"\u001b[39m)\n\u001b[0;32m--> 761\u001b[0m     \u001b[39mreturn\u001b[39;00m \u001b[39mself\u001b[39;49m\u001b[39m.\u001b[39;49mprompt(prompt_template, \u001b[39m*\u001b[39;49margs, \u001b[39m*\u001b[39;49m\u001b[39m*\u001b[39;49mkwargs)\n\u001b[1;32m    762\u001b[0m \u001b[39melse\u001b[39;00m:\n",
      "File \u001b[0;32m/workspaces/Valet/.venv/lib/python3.10/site-packages/haystack/nodes/prompt/prompt_node.py:790\u001b[0m, in \u001b[0;36mPromptNode.prompt\u001b[0;34m(self, prompt_template, *args, **kwargs)\u001b[0m\n\u001b[1;32m    789\u001b[0m logger\u001b[39m.\u001b[39mdebug(\u001b[39m\"\u001b[39m\u001b[39mPrompt being sent to LLM with prompt \u001b[39m\u001b[39m%s\u001b[39;00m\u001b[39m and kwargs \u001b[39m\u001b[39m%s\u001b[39;00m\u001b[39m\"\u001b[39m, prompt, kwargs_copy)\n\u001b[0;32m--> 790\u001b[0m output \u001b[39m=\u001b[39m \u001b[39mself\u001b[39;49m\u001b[39m.\u001b[39;49mprompt_model\u001b[39m.\u001b[39;49minvoke(prompt, \u001b[39m*\u001b[39;49m\u001b[39m*\u001b[39;49mkwargs_copy)\n\u001b[1;32m    791\u001b[0m results\u001b[39m.\u001b[39mextend(output)\n",
      "File \u001b[0;32m/workspaces/Valet/.venv/lib/python3.10/site-packages/haystack/nodes/prompt/prompt_node.py:495\u001b[0m, in \u001b[0;36mPromptModel.invoke\u001b[0;34m(self, prompt, **kwargs)\u001b[0m\n\u001b[1;32m    488\u001b[0m \u001b[39m\u001b[39m\u001b[39m\"\"\"\u001b[39;00m\n\u001b[1;32m    489\u001b[0m \u001b[39mIt takes in a prompt, and returns a list of responses using the underlying invocation layer.\u001b[39;00m\n\u001b[1;32m    490\u001b[0m \n\u001b[0;32m   (...)\u001b[0m\n\u001b[1;32m    493\u001b[0m \u001b[39m:return: A list of model generated responses for the prompt or prompts.\u001b[39;00m\n\u001b[1;32m    494\u001b[0m \u001b[39m\"\"\"\u001b[39;00m\n\u001b[0;32m--> 495\u001b[0m output \u001b[39m=\u001b[39m \u001b[39mself\u001b[39;49m\u001b[39m.\u001b[39;49mmodel_invocation_layer\u001b[39m.\u001b[39;49minvoke(prompt\u001b[39m=\u001b[39;49mprompt, \u001b[39m*\u001b[39;49m\u001b[39m*\u001b[39;49mkwargs)\n\u001b[1;32m    496\u001b[0m \u001b[39mreturn\u001b[39;00m output\n",
      "File \u001b[0;32m/workspaces/Valet/.venv/lib/python3.10/site-packages/haystack/nodes/prompt/providers.py:620\u001b[0m, in \u001b[0;36mChatGPTInvocationLayer.invoke\u001b[0;34m(self, *args, **kwargs)\u001b[0m\n\u001b[1;32m    607\u001b[0m payload \u001b[39m=\u001b[39m {\n\u001b[1;32m    608\u001b[0m     \u001b[39m\"\u001b[39m\u001b[39mmodel\u001b[39m\u001b[39m\"\u001b[39m: \u001b[39mself\u001b[39m\u001b[39m.\u001b[39mmodel_name_or_path,\n\u001b[1;32m    609\u001b[0m     \u001b[39m\"\u001b[39m\u001b[39mmessages\u001b[39m\u001b[39m\"\u001b[39m: messages,\n\u001b[0;32m   (...)\u001b[0m\n\u001b[1;32m    618\u001b[0m     \u001b[39m\"\u001b[39m\u001b[39mlogit_bias\u001b[39m\u001b[39m\"\u001b[39m: kwargs_with_defaults\u001b[39m.\u001b[39mget(\u001b[39m\"\u001b[39m\u001b[39mlogit_bias\u001b[39m\u001b[39m\"\u001b[39m, {}),\n\u001b[1;32m    619\u001b[0m }\n\u001b[0;32m--> 620\u001b[0m response \u001b[39m=\u001b[39m openai_request(url\u001b[39m=\u001b[39;49m\u001b[39mself\u001b[39;49m\u001b[39m.\u001b[39;49murl, headers\u001b[39m=\u001b[39;49m\u001b[39mself\u001b[39;49m\u001b[39m.\u001b[39;49mheaders, payload\u001b[39m=\u001b[39;49mpayload)\n\u001b[1;32m    621\u001b[0m _check_openai_finish_reason(result\u001b[39m=\u001b[39mresponse, payload\u001b[39m=\u001b[39mpayload)\n",
      "File \u001b[0;32m/workspaces/Valet/.venv/lib/python3.10/site-packages/tenacity/__init__.py:289\u001b[0m, in \u001b[0;36mBaseRetrying.wraps.<locals>.wrapped_f\u001b[0;34m(*args, **kw)\u001b[0m\n\u001b[1;32m    287\u001b[0m \u001b[39m@functools\u001b[39m\u001b[39m.\u001b[39mwraps(f)\n\u001b[1;32m    288\u001b[0m \u001b[39mdef\u001b[39;00m \u001b[39mwrapped_f\u001b[39m(\u001b[39m*\u001b[39margs: t\u001b[39m.\u001b[39mAny, \u001b[39m*\u001b[39m\u001b[39m*\u001b[39mkw: t\u001b[39m.\u001b[39mAny) \u001b[39m-\u001b[39m\u001b[39m>\u001b[39m t\u001b[39m.\u001b[39mAny:\n\u001b[0;32m--> 289\u001b[0m     \u001b[39mreturn\u001b[39;00m \u001b[39mself\u001b[39;49m(f, \u001b[39m*\u001b[39;49margs, \u001b[39m*\u001b[39;49m\u001b[39m*\u001b[39;49mkw)\n",
      "File \u001b[0;32m/workspaces/Valet/.venv/lib/python3.10/site-packages/tenacity/__init__.py:379\u001b[0m, in \u001b[0;36mRetrying.__call__\u001b[0;34m(self, fn, *args, **kwargs)\u001b[0m\n\u001b[1;32m    378\u001b[0m \u001b[39mwhile\u001b[39;00m \u001b[39mTrue\u001b[39;00m:\n\u001b[0;32m--> 379\u001b[0m     do \u001b[39m=\u001b[39m \u001b[39mself\u001b[39;49m\u001b[39m.\u001b[39;49miter(retry_state\u001b[39m=\u001b[39;49mretry_state)\n\u001b[1;32m    380\u001b[0m     \u001b[39mif\u001b[39;00m \u001b[39misinstance\u001b[39m(do, DoAttempt):\n",
      "File \u001b[0;32m/workspaces/Valet/.venv/lib/python3.10/site-packages/tenacity/__init__.py:314\u001b[0m, in \u001b[0;36mBaseRetrying.iter\u001b[0;34m(self, retry_state)\u001b[0m\n\u001b[1;32m    313\u001b[0m \u001b[39mif\u001b[39;00m \u001b[39mnot\u001b[39;00m (is_explicit_retry \u001b[39mor\u001b[39;00m \u001b[39mself\u001b[39m\u001b[39m.\u001b[39mretry(retry_state)):\n\u001b[0;32m--> 314\u001b[0m     \u001b[39mreturn\u001b[39;00m fut\u001b[39m.\u001b[39;49mresult()\n\u001b[1;32m    316\u001b[0m \u001b[39mif\u001b[39;00m \u001b[39mself\u001b[39m\u001b[39m.\u001b[39mafter \u001b[39mis\u001b[39;00m \u001b[39mnot\u001b[39;00m \u001b[39mNone\u001b[39;00m:\n",
      "File \u001b[0;32m/usr/local/python/3.10.4/lib/python3.10/concurrent/futures/_base.py:439\u001b[0m, in \u001b[0;36mFuture.result\u001b[0;34m(self, timeout)\u001b[0m\n\u001b[1;32m    438\u001b[0m \u001b[39melif\u001b[39;00m \u001b[39mself\u001b[39m\u001b[39m.\u001b[39m_state \u001b[39m==\u001b[39m FINISHED:\n\u001b[0;32m--> 439\u001b[0m     \u001b[39mreturn\u001b[39;00m \u001b[39mself\u001b[39;49m\u001b[39m.\u001b[39;49m__get_result()\n\u001b[1;32m    441\u001b[0m \u001b[39mself\u001b[39m\u001b[39m.\u001b[39m_condition\u001b[39m.\u001b[39mwait(timeout)\n",
      "File \u001b[0;32m/usr/local/python/3.10.4/lib/python3.10/concurrent/futures/_base.py:391\u001b[0m, in \u001b[0;36mFuture.__get_result\u001b[0;34m(self)\u001b[0m\n\u001b[1;32m    390\u001b[0m \u001b[39mtry\u001b[39;00m:\n\u001b[0;32m--> 391\u001b[0m     \u001b[39mraise\u001b[39;00m \u001b[39mself\u001b[39m\u001b[39m.\u001b[39m_exception\n\u001b[1;32m    392\u001b[0m \u001b[39mfinally\u001b[39;00m:\n\u001b[1;32m    393\u001b[0m     \u001b[39m# Break a reference cycle with the exception in self._exception\u001b[39;00m\n",
      "File \u001b[0;32m/workspaces/Valet/.venv/lib/python3.10/site-packages/tenacity/__init__.py:382\u001b[0m, in \u001b[0;36mRetrying.__call__\u001b[0;34m(self, fn, *args, **kwargs)\u001b[0m\n\u001b[1;32m    381\u001b[0m \u001b[39mtry\u001b[39;00m:\n\u001b[0;32m--> 382\u001b[0m     result \u001b[39m=\u001b[39m fn(\u001b[39m*\u001b[39;49margs, \u001b[39m*\u001b[39;49m\u001b[39m*\u001b[39;49mkwargs)\n\u001b[1;32m    383\u001b[0m \u001b[39mexcept\u001b[39;00m \u001b[39mBaseException\u001b[39;00m:  \u001b[39m# noqa: B902\u001b[39;00m\n",
      "File \u001b[0;32m/workspaces/Valet/.venv/lib/python3.10/site-packages/haystack/utils/openai_utils.py:147\u001b[0m, in \u001b[0;36mopenai_request\u001b[0;34m(url, headers, payload, timeout, read_response, **kwargs)\u001b[0m\n\u001b[1;32m    139\u001b[0m \u001b[39m\u001b[39m\u001b[39m\"\"\"Make a request to the OpenAI API given a `url`, `headers`, `payload`, and `timeout`.\u001b[39;00m\n\u001b[1;32m    140\u001b[0m \n\u001b[1;32m    141\u001b[0m \u001b[39m:param url: The URL of the OpenAI API.\u001b[39;00m\n\u001b[0;32m   (...)\u001b[0m\n\u001b[1;32m    145\u001b[0m \u001b[39m:param read_response: Whether to read the response as JSON. The default is True.\u001b[39;00m\n\u001b[1;32m    146\u001b[0m \u001b[39m\"\"\"\u001b[39;00m\n\u001b[0;32m--> 147\u001b[0m response \u001b[39m=\u001b[39m requests\u001b[39m.\u001b[39;49mrequest(\u001b[39m\"\u001b[39;49m\u001b[39mPOST\u001b[39;49m\u001b[39m\"\u001b[39;49m, url, headers\u001b[39m=\u001b[39;49mheaders, data\u001b[39m=\u001b[39;49mjson\u001b[39m.\u001b[39;49mdumps(payload), timeout\u001b[39m=\u001b[39;49mtimeout, \u001b[39m*\u001b[39;49m\u001b[39m*\u001b[39;49mkwargs)\n\u001b[1;32m    148\u001b[0m \u001b[39mif\u001b[39;00m read_response:\n",
      "File \u001b[0;32m/workspaces/Valet/.venv/lib/python3.10/site-packages/requests/api.py:59\u001b[0m, in \u001b[0;36mrequest\u001b[0;34m(method, url, **kwargs)\u001b[0m\n\u001b[1;32m     58\u001b[0m \u001b[39mwith\u001b[39;00m sessions\u001b[39m.\u001b[39mSession() \u001b[39mas\u001b[39;00m session:\n\u001b[0;32m---> 59\u001b[0m     \u001b[39mreturn\u001b[39;00m session\u001b[39m.\u001b[39;49mrequest(method\u001b[39m=\u001b[39;49mmethod, url\u001b[39m=\u001b[39;49murl, \u001b[39m*\u001b[39;49m\u001b[39m*\u001b[39;49mkwargs)\n",
      "File \u001b[0;32m/workspaces/Valet/.venv/lib/python3.10/site-packages/requests/sessions.py:587\u001b[0m, in \u001b[0;36mSession.request\u001b[0;34m(self, method, url, params, data, headers, cookies, files, auth, timeout, allow_redirects, proxies, hooks, stream, verify, cert, json)\u001b[0m\n\u001b[1;32m    586\u001b[0m send_kwargs\u001b[39m.\u001b[39mupdate(settings)\n\u001b[0;32m--> 587\u001b[0m resp \u001b[39m=\u001b[39m \u001b[39mself\u001b[39;49m\u001b[39m.\u001b[39;49msend(prep, \u001b[39m*\u001b[39;49m\u001b[39m*\u001b[39;49msend_kwargs)\n\u001b[1;32m    589\u001b[0m \u001b[39mreturn\u001b[39;00m resp\n",
      "File \u001b[0;32m/workspaces/Valet/.venv/lib/python3.10/site-packages/requests/sessions.py:701\u001b[0m, in \u001b[0;36mSession.send\u001b[0;34m(self, request, **kwargs)\u001b[0m\n\u001b[1;32m    700\u001b[0m \u001b[39m# Send the request\u001b[39;00m\n\u001b[0;32m--> 701\u001b[0m r \u001b[39m=\u001b[39m adapter\u001b[39m.\u001b[39;49msend(request, \u001b[39m*\u001b[39;49m\u001b[39m*\u001b[39;49mkwargs)\n\u001b[1;32m    703\u001b[0m \u001b[39m# Total elapsed time of the request (approximately)\u001b[39;00m\n",
      "File \u001b[0;32m/workspaces/Valet/.venv/lib/python3.10/site-packages/requests/adapters.py:578\u001b[0m, in \u001b[0;36mHTTPAdapter.send\u001b[0;34m(self, request, stream, timeout, verify, cert, proxies)\u001b[0m\n\u001b[1;32m    577\u001b[0m \u001b[39melif\u001b[39;00m \u001b[39misinstance\u001b[39m(e, ReadTimeoutError):\n\u001b[0;32m--> 578\u001b[0m     \u001b[39mraise\u001b[39;00m ReadTimeout(e, request\u001b[39m=\u001b[39mrequest)\n\u001b[1;32m    579\u001b[0m \u001b[39melif\u001b[39;00m \u001b[39misinstance\u001b[39m(e, _InvalidHeader):\n",
      "\u001b[0;31mReadTimeout\u001b[0m: HTTPSConnectionPool(host='api.openai.com', port=443): Read timed out. (read timeout=30.0)",
      "\nThe above exception was the direct cause of the following exception:\n",
      "\u001b[0;31mException\u001b[0m                                 Traceback (most recent call last)",
      "Cell \u001b[0;32mIn[4], line 9\u001b[0m\n\u001b[1;32m      6\u001b[0m     \u001b[39mprint\u001b[39m(answer)\n\u001b[1;32m      7\u001b[0m     \u001b[39mreturn\u001b[39;00m answer\n\u001b[0;32m----> 9\u001b[0m df[\u001b[39m\"\u001b[39m\u001b[39mresponse\u001b[39m\u001b[39m\"\u001b[39m] \u001b[39m=\u001b[39m df\u001b[39m.\u001b[39;49mapply(answer_question, axis\u001b[39m=\u001b[39;49m\u001b[39m1\u001b[39;49m)\n",
      "File \u001b[0;32m/workspaces/Valet/.venv/lib/python3.10/site-packages/pandas/core/frame.py:9568\u001b[0m, in \u001b[0;36mDataFrame.apply\u001b[0;34m(self, func, axis, raw, result_type, args, **kwargs)\u001b[0m\n\u001b[1;32m   9557\u001b[0m \u001b[39mfrom\u001b[39;00m \u001b[39mpandas\u001b[39;00m\u001b[39m.\u001b[39;00m\u001b[39mcore\u001b[39;00m\u001b[39m.\u001b[39;00m\u001b[39mapply\u001b[39;00m \u001b[39mimport\u001b[39;00m frame_apply\n\u001b[1;32m   9559\u001b[0m op \u001b[39m=\u001b[39m frame_apply(\n\u001b[1;32m   9560\u001b[0m     \u001b[39mself\u001b[39m,\n\u001b[1;32m   9561\u001b[0m     func\u001b[39m=\u001b[39mfunc,\n\u001b[0;32m   (...)\u001b[0m\n\u001b[1;32m   9566\u001b[0m     kwargs\u001b[39m=\u001b[39mkwargs,\n\u001b[1;32m   9567\u001b[0m )\n\u001b[0;32m-> 9568\u001b[0m \u001b[39mreturn\u001b[39;00m op\u001b[39m.\u001b[39;49mapply()\u001b[39m.\u001b[39m__finalize__(\u001b[39mself\u001b[39m, method\u001b[39m=\u001b[39m\u001b[39m\"\u001b[39m\u001b[39mapply\u001b[39m\u001b[39m\"\u001b[39m)\n",
      "File \u001b[0;32m/workspaces/Valet/.venv/lib/python3.10/site-packages/pandas/core/apply.py:764\u001b[0m, in \u001b[0;36mFrameApply.apply\u001b[0;34m(self)\u001b[0m\n\u001b[1;32m    761\u001b[0m \u001b[39melif\u001b[39;00m \u001b[39mself\u001b[39m\u001b[39m.\u001b[39mraw:\n\u001b[1;32m    762\u001b[0m     \u001b[39mreturn\u001b[39;00m \u001b[39mself\u001b[39m\u001b[39m.\u001b[39mapply_raw()\n\u001b[0;32m--> 764\u001b[0m \u001b[39mreturn\u001b[39;00m \u001b[39mself\u001b[39;49m\u001b[39m.\u001b[39;49mapply_standard()\n",
      "File \u001b[0;32m/workspaces/Valet/.venv/lib/python3.10/site-packages/pandas/core/apply.py:891\u001b[0m, in \u001b[0;36mFrameApply.apply_standard\u001b[0;34m(self)\u001b[0m\n\u001b[1;32m    890\u001b[0m \u001b[39mdef\u001b[39;00m \u001b[39mapply_standard\u001b[39m(\u001b[39mself\u001b[39m):\n\u001b[0;32m--> 891\u001b[0m     results, res_index \u001b[39m=\u001b[39m \u001b[39mself\u001b[39;49m\u001b[39m.\u001b[39;49mapply_series_generator()\n\u001b[1;32m    893\u001b[0m     \u001b[39m# wrap results\u001b[39;00m\n\u001b[1;32m    894\u001b[0m     \u001b[39mreturn\u001b[39;00m \u001b[39mself\u001b[39m\u001b[39m.\u001b[39mwrap_results(results, res_index)\n",
      "File \u001b[0;32m/workspaces/Valet/.venv/lib/python3.10/site-packages/pandas/core/apply.py:907\u001b[0m, in \u001b[0;36mFrameApply.apply_series_generator\u001b[0;34m(self)\u001b[0m\n\u001b[1;32m    904\u001b[0m \u001b[39mwith\u001b[39;00m option_context(\u001b[39m\"\u001b[39m\u001b[39mmode.chained_assignment\u001b[39m\u001b[39m\"\u001b[39m, \u001b[39mNone\u001b[39;00m):\n\u001b[1;32m    905\u001b[0m     \u001b[39mfor\u001b[39;00m i, v \u001b[39min\u001b[39;00m \u001b[39menumerate\u001b[39m(series_gen):\n\u001b[1;32m    906\u001b[0m         \u001b[39m# ignore SettingWithCopy here in case the user mutates\u001b[39;00m\n\u001b[0;32m--> 907\u001b[0m         results[i] \u001b[39m=\u001b[39m \u001b[39mself\u001b[39;49m\u001b[39m.\u001b[39;49mf(v)\n\u001b[1;32m    908\u001b[0m         \u001b[39mif\u001b[39;00m \u001b[39misinstance\u001b[39m(results[i], ABCSeries):\n\u001b[1;32m    909\u001b[0m             \u001b[39m# If we have a view on v, we need to make a copy because\u001b[39;00m\n\u001b[1;32m    910\u001b[0m             \u001b[39m#  series_generator will swap out the underlying data\u001b[39;00m\n\u001b[1;32m    911\u001b[0m             results[i] \u001b[39m=\u001b[39m results[i]\u001b[39m.\u001b[39mcopy(deep\u001b[39m=\u001b[39m\u001b[39mFalse\u001b[39;00m)\n",
      "Cell \u001b[0;32mIn[4], line 4\u001b[0m, in \u001b[0;36manswer_question\u001b[0;34m(row)\u001b[0m\n\u001b[1;32m      2\u001b[0m \u001b[39mprint\u001b[39m(\u001b[39m\"\u001b[39m\u001b[39m_\u001b[39m\u001b[39m\"\u001b[39m\u001b[39m*\u001b[39m\u001b[39m80\u001b[39m)\n\u001b[1;32m      3\u001b[0m \u001b[39mprint\u001b[39m(row)\n\u001b[0;32m----> 4\u001b[0m response \u001b[39m=\u001b[39m pipeline\u001b[39m.\u001b[39;49mrun(row[\u001b[39m\"\u001b[39;49m\u001b[39mquestion\u001b[39;49m\u001b[39m\"\u001b[39;49m])\n\u001b[1;32m      5\u001b[0m answer \u001b[39m=\u001b[39m response[\u001b[39m\"\u001b[39m\u001b[39manswers\u001b[39m\u001b[39m\"\u001b[39m][\u001b[39m0\u001b[39m]\u001b[39m.\u001b[39manswer\n\u001b[1;32m      6\u001b[0m \u001b[39mprint\u001b[39m(answer)\n",
      "File \u001b[0;32m/workspaces/Valet/.venv/lib/python3.10/site-packages/haystack/pipelines/standard_pipelines.py:444\u001b[0m, in \u001b[0;36mGenerativeQAPipeline.run\u001b[0;34m(self, query, params, debug)\u001b[0m\n\u001b[1;32m    433\u001b[0m \u001b[39mdef\u001b[39;00m \u001b[39mrun\u001b[39m(\u001b[39mself\u001b[39m, query: \u001b[39mstr\u001b[39m, params: Optional[\u001b[39mdict\u001b[39m] \u001b[39m=\u001b[39m \u001b[39mNone\u001b[39;00m, debug: Optional[\u001b[39mbool\u001b[39m] \u001b[39m=\u001b[39m \u001b[39mNone\u001b[39;00m):\n\u001b[1;32m    434\u001b[0m \u001b[39m    \u001b[39m\u001b[39m\"\"\"\u001b[39;00m\n\u001b[1;32m    435\u001b[0m \u001b[39m    :param query: the query string.\u001b[39;00m\n\u001b[1;32m    436\u001b[0m \u001b[39m    :param params: params for the `retriever` and `generator`. For instance,\u001b[39;00m\n\u001b[0;32m   (...)\u001b[0m\n\u001b[1;32m    442\u001b[0m \u001b[39m          by this method under the key \"_debug\"\u001b[39;00m\n\u001b[1;32m    443\u001b[0m \u001b[39m    \"\"\"\u001b[39;00m\n\u001b[0;32m--> 444\u001b[0m     output \u001b[39m=\u001b[39m \u001b[39mself\u001b[39;49m\u001b[39m.\u001b[39;49mpipeline\u001b[39m.\u001b[39;49mrun(query\u001b[39m=\u001b[39;49mquery, params\u001b[39m=\u001b[39;49mparams, debug\u001b[39m=\u001b[39;49mdebug)\n\u001b[1;32m    445\u001b[0m     \u001b[39mreturn\u001b[39;00m output\n",
      "File \u001b[0;32m/workspaces/Valet/.venv/lib/python3.10/site-packages/haystack/pipelines/base.py:559\u001b[0m, in \u001b[0;36mPipeline.run\u001b[0;34m(self, query, file_paths, labels, documents, meta, params, debug)\u001b[0m\n\u001b[1;32m    555\u001b[0m \u001b[39mexcept\u001b[39;00m \u001b[39mException\u001b[39;00m \u001b[39mas\u001b[39;00m e:\n\u001b[1;32m    556\u001b[0m     \u001b[39m# The input might be a really large object with thousands of embeddings.\u001b[39;00m\n\u001b[1;32m    557\u001b[0m     \u001b[39m# If you really want to see it, raise the log level.\u001b[39;00m\n\u001b[1;32m    558\u001b[0m     logger\u001b[39m.\u001b[39mdebug(\u001b[39m\"\u001b[39m\u001b[39mException while running node \u001b[39m\u001b[39m'\u001b[39m\u001b[39m%s\u001b[39;00m\u001b[39m'\u001b[39m\u001b[39m with input \u001b[39m\u001b[39m%s\u001b[39;00m\u001b[39m\"\u001b[39m, node_id, node_input)\n\u001b[0;32m--> 559\u001b[0m     \u001b[39mraise\u001b[39;00m \u001b[39mException\u001b[39;00m(\n\u001b[1;32m    560\u001b[0m         \u001b[39mf\u001b[39m\u001b[39m\"\u001b[39m\u001b[39mException while running node \u001b[39m\u001b[39m'\u001b[39m\u001b[39m{\u001b[39;00mnode_id\u001b[39m}\u001b[39;00m\u001b[39m'\u001b[39m\u001b[39m: \u001b[39m\u001b[39m{\u001b[39;00me\u001b[39m}\u001b[39;00m\u001b[39m\\n\u001b[39;00m\u001b[39mEnable debug logging to see the data that was passed when the pipeline failed.\u001b[39m\u001b[39m\"\u001b[39m\n\u001b[1;32m    561\u001b[0m     ) \u001b[39mfrom\u001b[39;00m \u001b[39me\u001b[39;00m\n\u001b[1;32m    562\u001b[0m queue\u001b[39m.\u001b[39mpop(node_id)\n\u001b[1;32m    563\u001b[0m \u001b[39m#\u001b[39;00m\n",
      "\u001b[0;31mException\u001b[0m: Exception while running node 'Generator': HTTPSConnectionPool(host='api.openai.com', port=443): Read timed out. (read timeout=30.0)\nEnable debug logging to see the data that was passed when the pipeline failed."
     ]
    }
   ],
   "source": [
    "def answer_question(row: pd.Series) -> str:\n",
    "    print(\"_\"*80)\n",
    "    print(row)\n",
    "    response = pipeline.run(row[\"question\"])\n",
    "    answer = response[\"answers\"][0].answer\n",
    "    print(answer)\n",
    "    return answer\n",
    "\n",
    "df[\"response\"] = df.apply(answer_question, axis=1)"
   ]
  },
  {
   "cell_type": "code",
   "execution_count": null,
   "metadata": {},
   "outputs": [],
   "source": [
    "filename = f\"data/validation/base_de_test_validation_{datetime.now().strftime('%Y%m%d_%H_%M')}.xlsx\"\n",
    "df.to_excel(filename)"
   ]
  },
  {
   "cell_type": "code",
   "execution_count": null,
   "metadata": {},
   "outputs": [],
   "source": []
  }
 ],
 "metadata": {
  "kernelspec": {
   "display_name": ".venv",
   "language": "python",
   "name": "python3"
  },
  "language_info": {
   "codemirror_mode": {
    "name": "ipython",
    "version": 3
   },
   "file_extension": ".py",
   "mimetype": "text/x-python",
   "name": "python",
   "nbconvert_exporter": "python",
   "pygments_lexer": "ipython3",
   "version": "3.10.4"
  },
  "orig_nbformat": 4
 },
 "nbformat": 4,
 "nbformat_minor": 2
}
