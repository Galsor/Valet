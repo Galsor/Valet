{
 "cells": [
  {
   "cell_type": "code",
   "execution_count": 1,
   "metadata": {},
   "outputs": [
    {
     "name": "stdout",
     "output_type": "stream",
     "text": [
      "/workspaces/Valet\n"
     ]
    }
   ],
   "source": [
    "%cd /workspaces/Valet\n",
    "from src.pipeline.data import get_conversations, get_test_conversations, get_raw_conversation_store"
   ]
  },
  {
   "attachments": {},
   "cell_type": "markdown",
   "metadata": {},
   "source": [
    "# Exploration\n",
    "## Load data"
   ]
  },
  {
   "cell_type": "code",
   "execution_count": 2,
   "metadata": {},
   "outputs": [],
   "source": [
    "messages = get_conversations()"
   ]
  },
  {
   "cell_type": "code",
   "execution_count": 3,
   "metadata": {},
   "outputs": [
    {
     "data": {
      "text/plain": [
       "{'id': 6,\n",
       " 'type': 'message',\n",
       " 'date': '2019-04-11T18:01:18',\n",
       " 'date_unixtime': '1554998478',\n",
       " 'from': 'Anji ISMAIL',\n",
       " 'from_id': 'user253732290',\n",
       " 'text': '1st 🥇',\n",
       " 'text_entities': [{'type': 'plain', 'text': '1st 🥇'}]}"
      ]
     },
     "execution_count": 3,
     "metadata": {},
     "output_type": "execute_result"
    }
   ],
   "source": [
    "messages[0]"
   ]
  },
  {
   "cell_type": "code",
   "execution_count": 4,
   "metadata": {},
   "outputs": [
    {
     "data": {
      "text/plain": [
       "19238"
      ]
     },
     "execution_count": 4,
     "metadata": {},
     "output_type": "execute_result"
    }
   ],
   "source": [
    "len(messages)"
   ]
  },
  {
   "cell_type": "code",
   "execution_count": 5,
   "metadata": {},
   "outputs": [
    {
     "data": {
      "text/plain": [
       "3637"
      ]
     },
     "execution_count": 5,
     "metadata": {},
     "output_type": "execute_result"
    }
   ],
   "source": [
    "questions = [message for message in messages if \"?\" in message[\"text\"]]\n",
    "len(questions)"
   ]
  },
  {
   "cell_type": "code",
   "execution_count": 6,
   "metadata": {},
   "outputs": [],
   "source": [
    "test_messages = get_test_conversations()"
   ]
  },
  {
   "cell_type": "code",
   "execution_count": 10,
   "metadata": {},
   "outputs": [
    {
     "data": {
      "text/plain": [
       "<Document: {'content': '{\"id\": 20483, \"type\": \"message\", \"date\": \"2023-03-29T04:45:20\", \"date_unixtime\": \"1680057920\", \"from\": \"Fred POTTER\", \"from_id\": \"user686106420\", \"reply_to_message_id\": 20479, \"text\": \"Cette bonne \\\\u00e9poque est r\\\\u00e9volue - BNP a vendu bank of the west\\\\u2026\", \"text_entities\": [{\"type\": \"plain\", \"text\": \"Cette bonne \\\\u00e9poque est r\\\\u00e9volue - BNP a vendu bank of the west\\\\u2026\"}]}', 'content_type': 'text', 'score': None, 'meta': {}, 'id_hash_keys': ['content'], 'embedding': None, 'id': '20483'}>"
      ]
     },
     "execution_count": 10,
     "metadata": {},
     "output_type": "execute_result"
    }
   ],
   "source": [
    "from haystack import Document\n",
    "import json\n",
    "m = test_messages[0]\n",
    "Document(id=m[\"id\"], content=json.dumps(m))\n"
   ]
  },
  {
   "cell_type": "code",
   "execution_count": null,
   "metadata": {},
   "outputs": [],
   "source": []
  }
 ],
 "metadata": {
  "kernelspec": {
   "display_name": ".venv",
   "language": "python",
   "name": "python3"
  },
  "language_info": {
   "codemirror_mode": {
    "name": "ipython",
    "version": 3
   },
   "file_extension": ".py",
   "mimetype": "text/x-python",
   "name": "python",
   "nbconvert_exporter": "python",
   "pygments_lexer": "ipython3",
   "version": "3.10.4"
  },
  "orig_nbformat": 4
 },
 "nbformat": 4,
 "nbformat_minor": 2
}
